{
  "nbformat": 4,
  "nbformat_minor": 0,
  "metadata": {
    "colab": {
      "name": "Untitled1.ipynb",
      "provenance": [],
      "toc_visible": true,
      "authorship_tag": "ABX9TyO0PSSCR1yhF5dc91sCYzfW",
      "include_colab_link": true
    },
    "kernelspec": {
      "name": "python3",
      "display_name": "Python 3"
    }
  },
  "cells": [
    {
      "cell_type": "markdown",
      "metadata": {
        "id": "view-in-github",
        "colab_type": "text"
      },
      "source": [
        "<a href=\"https://colab.research.google.com/github/terrycmchan/buildroot/blob/master/Untitled1.ipynb\" target=\"_parent\"><img src=\"https://colab.research.google.com/assets/colab-badge.svg\" alt=\"Open In Colab\"/></a>"
      ]
    },
    {
      "cell_type": "code",
      "metadata": {
        "id": "0K0JfvMtBmMM"
      },
      "source": [
        "testValue =  5#@param {type:\"integer\"}\n"
      ],
      "execution_count": 7,
      "outputs": []
    },
    {
      "cell_type": "code",
      "metadata": {
        "colab": {
          "base_uri": "https://localhost:8080/"
        },
        "id": "q0LXi65oEKL8",
        "outputId": "0ba6ac5f-b09e-4f31-b79b-1a7c931444f3"
      },
      "source": [
        "import time\r\n",
        "print(time.ctime())\r\n",
        "time.sleep(testValue)\r\n",
        "print (time.ctime())"
      ],
      "execution_count": 8,
      "outputs": [
        {
          "output_type": "stream",
          "text": [
            "Wed Dec  9 05:55:23 2020\n",
            "Wed Dec  9 05:55:28 2020\n"
          ],
          "name": "stdout"
        }
      ]
    }
  ]
}